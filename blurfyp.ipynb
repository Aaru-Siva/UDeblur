{
  "cells": [
    {
      "cell_type": "code",
      "execution_count": 12,
      "metadata": {
        "colab": {
          "base_uri": "https://localhost:8080/"
        },
        "id": "s6rAwpekvJtY",
        "outputId": "a8f440cb-c989-4a6e-9379-ea026417811f"
      },
      "outputs": [
        {
          "name": "stdout",
          "output_type": "stream",
          "text": [
            "Cloning into 'UDeblur'...\n",
            "remote: Enumerating objects: 527, done.\u001b[K\n",
            "remote: Counting objects:   0% (1/192)\u001b[K\rremote: Counting objects:   1% (2/192)\u001b[K\rremote: Counting objects:   2% (4/192)\u001b[K\rremote: Counting objects:   3% (6/192)\u001b[K\rremote: Counting objects:   4% (8/192)\u001b[K\rremote: Counting objects:   5% (10/192)\u001b[K\rremote: Counting objects:   6% (12/192)\u001b[K\rremote: Counting objects:   7% (14/192)\u001b[K\rremote: Counting objects:   8% (16/192)\u001b[K\rremote: Counting objects:   9% (18/192)\u001b[K\rremote: Counting objects:  10% (20/192)\u001b[K\rremote: Counting objects:  11% (22/192)\u001b[K\rremote: Counting objects:  12% (24/192)\u001b[K\rremote: Counting objects:  13% (25/192)\u001b[K\rremote: Counting objects:  14% (27/192)\u001b[K\rremote: Counting objects:  15% (29/192)\u001b[K\rremote: Counting objects:  16% (31/192)\u001b[K\rremote: Counting objects:  17% (33/192)\u001b[K\rremote: Counting objects:  18% (35/192)\u001b[K\rremote: Counting objects:  19% (37/192)\u001b[K\rremote: Counting objects:  20% (39/192)\u001b[K\rremote: Counting objects:  21% (41/192)\u001b[K\rremote: Counting objects:  22% (43/192)\u001b[K\rremote: Counting objects:  23% (45/192)\u001b[K\rremote: Counting objects:  24% (47/192)\u001b[K\rremote: Counting objects:  25% (48/192)\u001b[K\rremote: Counting objects:  26% (50/192)\u001b[K\rremote: Counting objects:  27% (52/192)\u001b[K\rremote: Counting objects:  28% (54/192)\u001b[K\rremote: Counting objects:  29% (56/192)\u001b[K\rremote: Counting objects:  30% (58/192)\u001b[K\rremote: Counting objects:  31% (60/192)\u001b[K\rremote: Counting objects:  32% (62/192)\u001b[K\rremote: Counting objects:  33% (64/192)\u001b[K\rremote: Counting objects:  34% (66/192)\u001b[K\rremote: Counting objects:  35% (68/192)\u001b[K\rremote: Counting objects:  36% (70/192)\u001b[K\rremote: Counting objects:  37% (72/192)\u001b[K\rremote: Counting objects:  38% (73/192)\u001b[K\rremote: Counting objects:  39% (75/192)\u001b[K\rremote: Counting objects:  40% (77/192)\u001b[K\rremote: Counting objects:  41% (79/192)\u001b[K\rremote: Counting objects:  42% (81/192)\u001b[K\rremote: Counting objects:  43% (83/192)\u001b[K\rremote: Counting objects:  44% (85/192)\u001b[K\rremote: Counting objects:  45% (87/192)\u001b[K\rremote: Counting objects:  46% (89/192)\u001b[K\rremote: Counting objects:  47% (91/192)\u001b[K\rremote: Counting objects:  48% (93/192)\u001b[K\rremote: Counting objects:  49% (95/192)\u001b[K\rremote: Counting objects:  50% (96/192)\u001b[K\rremote: Counting objects:  51% (98/192)\u001b[K\rremote: Counting objects:  52% (100/192)\u001b[K\rremote: Counting objects:  53% (102/192)\u001b[K\rremote: Counting objects:  54% (104/192)\u001b[K\rremote: Counting objects:  55% (106/192)\u001b[K\rremote: Counting objects:  56% (108/192)\u001b[K\rremote: Counting objects:  57% (110/192)\u001b[K\rremote: Counting objects:  58% (112/192)\u001b[K\rremote: Counting objects:  59% (114/192)\u001b[K\rremote: Counting objects:  60% (116/192)\u001b[K\rremote: Counting objects:  61% (118/192)\u001b[K\rremote: Counting objects:  62% (120/192)\u001b[K\rremote: Counting objects:  63% (121/192)\u001b[K\rremote: Counting objects:  64% (123/192)\u001b[K\rremote: Counting objects:  65% (125/192)\u001b[K\rremote: Counting objects:  66% (127/192)\u001b[K\rremote: Counting objects:  67% (129/192)\u001b[K\rremote: Counting objects:  68% (131/192)\u001b[K\rremote: Counting objects:  69% (133/192)\u001b[K\rremote: Counting objects:  70% (135/192)\u001b[K\rremote: Counting objects:  71% (137/192)\u001b[K\rremote: Counting objects:  72% (139/192)\u001b[K\rremote: Counting objects:  73% (141/192)\u001b[K\rremote: Counting objects:  74% (143/192)\u001b[K\rremote: Counting objects:  75% (144/192)\u001b[K\rremote: Counting objects:  76% (146/192)\u001b[K\rremote: Counting objects:  77% (148/192)\u001b[K\rremote: Counting objects:  78% (150/192)\u001b[K\rremote: Counting objects:  79% (152/192)\u001b[K\rremote: Counting objects:  80% (154/192)\u001b[K\rremote: Counting objects:  81% (156/192)\u001b[K\rremote: Counting objects:  82% (158/192)\u001b[K\rremote: Counting objects:  83% (160/192)\u001b[K\rremote: Counting objects:  84% (162/192)\u001b[K\rremote: Counting objects:  85% (164/192)\u001b[K\rremote: Counting objects:  86% (166/192)\u001b[K\rremote: Counting objects:  87% (168/192)\u001b[K\rremote: Counting objects:  88% (169/192)\u001b[K\rremote: Counting objects:  89% (171/192)\u001b[K\rremote: Counting objects:  90% (173/192)\u001b[K\rremote: Counting objects:  91% (175/192)\u001b[K\rremote: Counting objects:  92% (177/192)\u001b[K\rremote: Counting objects:  93% (179/192)\u001b[K\rremote: Counting objects:  94% (181/192)\u001b[K\rremote: Counting objects:  95% (183/192)\u001b[K\rremote: Counting objects:  96% (185/192)\u001b[K\rremote: Counting objects:  97% (187/192)\u001b[K\rremote: Counting objects:  98% (189/192)\u001b[K\rremote: Counting objects:  99% (191/192)\u001b[K\rremote: Counting objects: 100% (192/192)\u001b[K\rremote: Counting objects: 100% (192/192), done.\u001b[K\n",
            "remote: Compressing objects: 100% (65/65), done.\u001b[K\n",
            "remote: Total 527 (delta 160), reused 129 (delta 125), pack-reused 335\u001b[K\n",
            "Receiving objects: 100% (527/527), 16.19 MiB | 24.17 MiB/s, done.\n",
            "Resolving deltas: 100% (276/276), done.\n",
            "/content/UDeblur/UDeblur\n"
          ]
        }
      ],
      "source": [
        "!git clone 'https://github.com/Aaru-Siva/UDeblur'\n",
        "%cd UDeblur/"
      ]
    },
    {
      "cell_type": "code",
      "execution_count": 13,
      "metadata": {
        "colab": {
          "base_uri": "https://localhost:8080/"
        },
        "id": "FcaUNb42xuZJ",
        "outputId": "d1f957cc-636b-4d6b-d1c9-0938e3fbb349"
      },
      "outputs": [
        {
          "name": "stdout",
          "output_type": "stream",
          "text": [
            "Looking in indexes: https://pypi.org/simple, https://us-python.pkg.dev/colab-wheels/public/simple/\n",
            "Requirement already satisfied: gdown in /usr/local/lib/python3.10/dist-packages (4.6.6)\n",
            "Requirement already satisfied: filelock in /usr/local/lib/python3.10/dist-packages (from gdown) (3.12.0)\n",
            "Requirement already satisfied: requests[socks] in /usr/local/lib/python3.10/dist-packages (from gdown) (2.27.1)\n",
            "Requirement already satisfied: tqdm in /usr/local/lib/python3.10/dist-packages (from gdown) (4.65.0)\n",
            "Requirement already satisfied: six in /usr/local/lib/python3.10/dist-packages (from gdown) (1.16.0)\n",
            "Requirement already satisfied: beautifulsoup4 in /usr/local/lib/python3.10/dist-packages (from gdown) (4.11.2)\n",
            "Requirement already satisfied: soupsieve>1.2 in /usr/local/lib/python3.10/dist-packages (from beautifulsoup4->gdown) (2.4.1)\n",
            "Requirement already satisfied: idna<4,>=2.5 in /usr/local/lib/python3.10/dist-packages (from requests[socks]->gdown) (3.4)\n",
            "Requirement already satisfied: certifi>=2017.4.17 in /usr/local/lib/python3.10/dist-packages (from requests[socks]->gdown) (2022.12.7)\n",
            "Requirement already satisfied: urllib3<1.27,>=1.21.1 in /usr/local/lib/python3.10/dist-packages (from requests[socks]->gdown) (1.26.15)\n",
            "Requirement already satisfied: charset-normalizer~=2.0.0 in /usr/local/lib/python3.10/dist-packages (from requests[socks]->gdown) (2.0.12)\n",
            "Requirement already satisfied: PySocks!=1.5.7,>=1.5.6 in /usr/local/lib/python3.10/dist-packages (from requests[socks]->gdown) (1.7.1)\n"
          ]
        }
      ],
      "source": [
        "!pip install gdown"
      ]
    },
    {
      "cell_type": "code",
      "execution_count": 14,
      "metadata": {
        "colab": {
          "base_uri": "https://localhost:8080/",
          "height": 105
        },
        "id": "mUa3li3DxvKt",
        "outputId": "0d975bc3-44e6-4aae-ea44-19fb0bf6a5ca"
      },
      "outputs": [
        {
          "name": "stderr",
          "output_type": "stream",
          "text": [
            "Downloading...\n",
            "From: https://drive.google.com/u/0/uc?id=1S0PVRbyTakYY9a82kujgZLbMihfNBLfC&export=download\n",
            "To: /content/UDeblur/experiments/pretrained_models/NAFNet-GoPro-width64.pth\n",
            "100%|██████████| 272M/272M [00:02<00:00, 100MB/s] \n"
          ]
        },
        {
          "data": {
            "application/vnd.google.colaboratory.intrinsic+json": {
              "type": "string"
            },
            "text/plain": [
              "'/content/UDeblur/experiments/pretrained_models/NAFNet-GoPro-width64.pth'"
            ]
          },
          "execution_count": 14,
          "metadata": {},
          "output_type": "execute_result"
        }
      ],
      "source": [
        "import gdown\n",
        "gdown.download('https://drive.google.com/u/0/uc?id=1S0PVRbyTakYY9a82kujgZLbMihfNBLfC&export=download', \"/content/UDeblur/experiments/pretrained_models/\", quiet=False)"
      ]
    },
    {
      "cell_type": "code",
      "execution_count": 1,
      "metadata": {
        "colab": {
          "base_uri": "https://localhost:8080/"
        },
        "id": "qE0MICquvcxq",
        "outputId": "cac3ff27-3113-40e1-bf61-35664c403ee0"
      },
      "outputs": [
        {
          "name": "stdout",
          "output_type": "stream",
          "text": [
            "Requirement already satisfied: streamlit in c:\\users\\aaru siva\\appdata\\local\\programs\\python\\python38\\lib\\site-packages (1.20.0)\n",
            "Requirement already satisfied: toml in c:\\users\\aaru siva\\appdata\\roaming\\python\\python38\\site-packages (from streamlit) (0.10.2)\n",
            "Requirement already satisfied: altair<5,>=3.2.0 in c:\\users\\aaru siva\\appdata\\local\\programs\\python\\python38\\lib\\site-packages (from streamlit) (4.2.2)\n",
            "Requirement already satisfied: tzlocal>=1.1 in c:\\users\\aaru siva\\appdata\\local\\programs\\python\\python38\\lib\\site-packages (from streamlit) (4.3)\n",
            "Requirement already satisfied: requests>=2.4 in c:\\users\\aaru siva\\appdata\\local\\programs\\python\\python38\\lib\\site-packages (from streamlit) (2.28.2)\n",
            "Requirement already satisfied: pillow>=6.2.0 in c:\\users\\aaru siva\\appdata\\local\\programs\\python\\python38\\lib\\site-packages (from streamlit) (9.5.0)\n",
            "Requirement already satisfied: importlib-metadata>=1.4 in c:\\users\\aaru siva\\appdata\\local\\programs\\python\\python38\\lib\\site-packages (from streamlit) (6.6.0)\n",
            "Requirement already satisfied: watchdog in c:\\users\\aaru siva\\appdata\\local\\programs\\python\\python38\\lib\\site-packages (from streamlit) (3.0.0)\n",
            "Requirement already satisfied: pympler>=0.9 in c:\\users\\aaru siva\\appdata\\local\\programs\\python\\python38\\lib\\site-packages (from streamlit) (1.0.1)\n",
            "Requirement already satisfied: click>=7.0 in c:\\users\\aaru siva\\appdata\\local\\programs\\python\\python38\\lib\\site-packages (from streamlit) (8.1.3)\n",
            "Requirement already satisfied: rich>=10.11.0 in c:\\users\\aaru siva\\appdata\\local\\programs\\python\\python38\\lib\\site-packages (from streamlit) (13.3.3)\n",
            "Requirement already satisfied: python-dateutil in c:\\users\\aaru siva\\appdata\\local\\programs\\python\\python38\\lib\\site-packages (from streamlit) (2.8.2)\n",
            "Requirement already satisfied: numpy in c:\\users\\aaru siva\\appdata\\local\\programs\\python\\python38\\lib\\site-packages (from streamlit) (1.24.2)\n",
            "Requirement already satisfied: tornado>=6.0.3 in c:\\users\\aaru siva\\appdata\\roaming\\python\\python38\\site-packages (from streamlit) (6.2)\n",
            "Requirement already satisfied: pyarrow>=4.0 in c:\\users\\aaru siva\\appdata\\local\\programs\\python\\python38\\lib\\site-packages (from streamlit) (11.0.0)\n",
            "Requirement already satisfied: blinker>=1.0.0 in c:\\users\\aaru siva\\appdata\\local\\programs\\python\\python38\\lib\\site-packages (from streamlit) (1.5)\n",
            "Requirement already satisfied: pydeck>=0.1.dev5 in c:\\users\\aaru siva\\appdata\\local\\programs\\python\\python38\\lib\\site-packages (from streamlit) (0.8.0)\n",
            "Requirement already satisfied: typing-extensions>=3.10.0.0 in c:\\users\\aaru siva\\appdata\\local\\programs\\python\\python38\\lib\\site-packages (from streamlit) (4.5.0)\n",
            "Requirement already satisfied: semver in c:\\users\\aaru siva\\appdata\\local\\programs\\python\\python38\\lib\\site-packages (from streamlit) (2.13.0)\n",
            "Requirement already satisfied: pandas<2,>=0.25 in c:\\users\\aaru siva\\appdata\\local\\programs\\python\\python38\\lib\\site-packages (from streamlit) (1.2.3)\n",
            "Requirement already satisfied: protobuf<4,>=3.12 in c:\\users\\aaru siva\\appdata\\local\\programs\\python\\python38\\lib\\site-packages (from streamlit) (3.20.0)\n",
            "Requirement already satisfied: packaging>=14.1 in c:\\users\\aaru siva\\appdata\\local\\programs\\python\\python38\\lib\\site-packages (from streamlit) (23.1)\n",
            "Requirement already satisfied: gitpython!=3.1.19 in c:\\users\\aaru siva\\appdata\\local\\programs\\python\\python38\\lib\\site-packages (from streamlit) (3.1.31)\n",
            "Requirement already satisfied: validators>=0.2 in c:\\users\\aaru siva\\appdata\\local\\programs\\python\\python38\\lib\\site-packages (from streamlit) (0.20.0)\n",
            "Requirement already satisfied: cachetools>=4.0 in c:\\users\\aaru siva\\appdata\\local\\programs\\python\\python38\\lib\\site-packages (from streamlit) (5.3.0)\n",
            "Requirement already satisfied: entrypoints in c:\\users\\aaru siva\\appdata\\local\\programs\\python\\python38\\lib\\site-packages (from altair<5,>=3.2.0->streamlit) (0.4)\n",
            "Requirement already satisfied: toolz in c:\\users\\aaru siva\\appdata\\local\\programs\\python\\python38\\lib\\site-packages (from altair<5,>=3.2.0->streamlit) (0.12.0)\n",
            "Requirement already satisfied: jinja2 in c:\\users\\aaru siva\\appdata\\local\\programs\\python\\python38\\lib\\site-packages (from altair<5,>=3.2.0->streamlit) (3.1.2)\n",
            "Requirement already satisfied: jsonschema>=3.0 in c:\\users\\aaru siva\\appdata\\local\\programs\\python\\python38\\lib\\site-packages (from altair<5,>=3.2.0->streamlit) (4.16.0)\n",
            "Requirement already satisfied: colorama in c:\\users\\aaru siva\\appdata\\local\\programs\\python\\python38\\lib\\site-packages (from click>=7.0->streamlit) (0.4.6)\n",
            "Requirement already satisfied: gitdb<5,>=4.0.1 in c:\\users\\aaru siva\\appdata\\local\\programs\\python\\python38\\lib\\site-packages (from gitpython!=3.1.19->streamlit) (4.0.10)\n",
            "Requirement already satisfied: zipp>=0.5 in c:\\users\\aaru siva\\appdata\\local\\programs\\python\\python38\\lib\\site-packages (from importlib-metadata>=1.4->streamlit) (3.15.0)\n"
          ]
        },
        {
          "name": "stderr",
          "output_type": "stream",
          "text": [
            "WARNING: Ignoring invalid distribution -illow (c:\\users\\aaru siva\\appdata\\local\\programs\\python\\python38\\lib\\site-packages)\n",
            "WARNING: Ignoring invalid distribution -illow (c:\\users\\aaru siva\\appdata\\local\\programs\\python\\python38\\lib\\site-packages)\n",
            "WARNING: Ignoring invalid distribution -illow (c:\\users\\aaru siva\\appdata\\local\\programs\\python\\python38\\lib\\site-packages)\n",
            "WARNING: Ignoring invalid distribution -illow (c:\\users\\aaru siva\\appdata\\local\\programs\\python\\python38\\lib\\site-packages)\n",
            "WARNING: Ignoring invalid distribution -illow (c:\\users\\aaru siva\\appdata\\local\\programs\\python\\python38\\lib\\site-packages)\n",
            "WARNING: Ignoring invalid distribution -illow (c:\\users\\aaru siva\\appdata\\local\\programs\\python\\python38\\lib\\site-packages)\n",
            "\n",
            "[notice] A new release of pip is available: 23.0.1 -> 23.1.2\n",
            "[notice] To update, run: python.exe -m pip install --upgrade pip\n"
          ]
        },
        {
          "name": "stdout",
          "output_type": "stream",
          "text": [
            "Requirement already satisfied: pytz>=2017.3 in c:\\users\\aaru siva\\appdata\\local\\programs\\python\\python38\\lib\\site-packages (from pandas<2,>=0.25->streamlit) (2021.1)\n",
            "Requirement already satisfied: six>=1.5 in c:\\users\\aaru siva\\appdata\\local\\programs\\python\\python38\\lib\\site-packages (from python-dateutil->streamlit) (1.16.0)\n",
            "Requirement already satisfied: charset-normalizer<4,>=2 in c:\\users\\aaru siva\\appdata\\local\\programs\\python\\python38\\lib\\site-packages (from requests>=2.4->streamlit) (3.1.0)\n",
            "Requirement already satisfied: idna<4,>=2.5 in c:\\users\\aaru siva\\appdata\\local\\programs\\python\\python38\\lib\\site-packages (from requests>=2.4->streamlit) (3.4)\n",
            "Requirement already satisfied: certifi>=2017.4.17 in c:\\users\\aaru siva\\appdata\\local\\programs\\python\\python38\\lib\\site-packages (from requests>=2.4->streamlit) (2022.12.7)\n",
            "Requirement already satisfied: urllib3<1.27,>=1.21.1 in c:\\users\\aaru siva\\appdata\\local\\programs\\python\\python38\\lib\\site-packages (from requests>=2.4->streamlit) (1.26.15)\n",
            "Requirement already satisfied: markdown-it-py<3.0.0,>=2.2.0 in c:\\users\\aaru siva\\appdata\\local\\programs\\python\\python38\\lib\\site-packages (from rich>=10.11.0->streamlit) (2.2.0)\n",
            "Requirement already satisfied: pygments<3.0.0,>=2.13.0 in c:\\users\\aaru siva\\appdata\\local\\programs\\python\\python38\\lib\\site-packages (from rich>=10.11.0->streamlit) (2.14.0)\n",
            "Requirement already satisfied: backports.zoneinfo in c:\\users\\aaru siva\\appdata\\local\\programs\\python\\python38\\lib\\site-packages (from tzlocal>=1.1->streamlit) (0.2.1)\n",
            "Requirement already satisfied: tzdata in c:\\users\\aaru siva\\appdata\\local\\programs\\python\\python38\\lib\\site-packages (from tzlocal>=1.1->streamlit) (2023.3)\n",
            "Requirement already satisfied: pytz-deprecation-shim in c:\\users\\aaru siva\\appdata\\local\\programs\\python\\python38\\lib\\site-packages (from tzlocal>=1.1->streamlit) (0.1.0.post0)\n",
            "Requirement already satisfied: decorator>=3.4.0 in c:\\users\\aaru siva\\appdata\\roaming\\python\\python38\\site-packages (from validators>=0.2->streamlit) (4.4.2)\n",
            "Requirement already satisfied: smmap<6,>=3.0.1 in c:\\users\\aaru siva\\appdata\\local\\programs\\python\\python38\\lib\\site-packages (from gitdb<5,>=4.0.1->gitpython!=3.1.19->streamlit) (5.0.0)\n",
            "Requirement already satisfied: MarkupSafe>=2.0 in c:\\users\\aaru siva\\appdata\\local\\programs\\python\\python38\\lib\\site-packages (from jinja2->altair<5,>=3.2.0->streamlit) (2.1.2)\n",
            "Requirement already satisfied: pyrsistent!=0.17.0,!=0.17.1,!=0.17.2,>=0.14.0 in c:\\users\\aaru siva\\appdata\\local\\programs\\python\\python38\\lib\\site-packages (from jsonschema>=3.0->altair<5,>=3.2.0->streamlit) (0.18.1)\n",
            "Requirement already satisfied: attrs>=17.4.0 in c:\\users\\aaru siva\\appdata\\local\\programs\\python\\python38\\lib\\site-packages (from jsonschema>=3.0->altair<5,>=3.2.0->streamlit) (22.1.0)\n",
            "Requirement already satisfied: importlib-resources>=1.4.0 in c:\\users\\aaru siva\\appdata\\local\\programs\\python\\python38\\lib\\site-packages (from jsonschema>=3.0->altair<5,>=3.2.0->streamlit) (5.9.0)\n",
            "Requirement already satisfied: pkgutil-resolve-name>=1.3.10 in c:\\users\\aaru siva\\appdata\\local\\programs\\python\\python38\\lib\\site-packages (from jsonschema>=3.0->altair<5,>=3.2.0->streamlit) (1.3.10)\n",
            "Requirement already satisfied: mdurl~=0.1 in c:\\users\\aaru siva\\appdata\\local\\programs\\python\\python38\\lib\\site-packages (from markdown-it-py<3.0.0,>=2.2.0->rich>=10.11.0->streamlit) (0.1.2)\n",
            "Collecting pyngrok\n",
            "  Downloading pyngrok-6.0.0.tar.gz (681 kB)\n",
            "     -------------------------------------- 681.2/681.2 kB 1.8 MB/s eta 0:00:00\n",
            "  Preparing metadata (setup.py): started\n",
            "  Preparing metadata (setup.py): finished with status 'done'\n",
            "Requirement already satisfied: PyYAML in c:\\users\\aaru siva\\appdata\\local\\programs\\python\\python38\\lib\\site-packages (from pyngrok) (6.0)\n",
            "Building wheels for collected packages: pyngrok\n",
            "  Building wheel for pyngrok (setup.py): started\n",
            "  Building wheel for pyngrok (setup.py): finished with status 'done'\n",
            "  Created wheel for pyngrok: filename=pyngrok-6.0.0-py3-none-any.whl size=19897 sha256=7de13b684797874bf73660095529d278815053fa8ba7808f64ac6fff1dd7bbb0\n",
            "  Stored in directory: c:\\users\\aaru siva\\appdata\\local\\pip\\cache\\wheels\\99\\bb\\19\\229a2ca20c12e770e05a8044fa290aa80d821755ef353b0065\n",
            "Successfully built pyngrok\n",
            "Installing collected packages: pyngrok\n",
            "Successfully installed pyngrok-6.0.0\n"
          ]
        },
        {
          "name": "stderr",
          "output_type": "stream",
          "text": [
            "WARNING: Ignoring invalid distribution -illow (c:\\users\\aaru siva\\appdata\\local\\programs\\python\\python38\\lib\\site-packages)\n",
            "WARNING: Ignoring invalid distribution -illow (c:\\users\\aaru siva\\appdata\\local\\programs\\python\\python38\\lib\\site-packages)\n",
            "WARNING: Ignoring invalid distribution -illow (c:\\users\\aaru siva\\appdata\\local\\programs\\python\\python38\\lib\\site-packages)\n",
            "WARNING: Ignoring invalid distribution -illow (c:\\users\\aaru siva\\appdata\\local\\programs\\python\\python38\\lib\\site-packages)\n",
            "WARNING: Ignoring invalid distribution -illow (c:\\users\\aaru siva\\appdata\\local\\programs\\python\\python38\\lib\\site-packages)\n",
            "WARNING: Ignoring invalid distribution -illow (c:\\users\\aaru siva\\appdata\\local\\programs\\python\\python38\\lib\\site-packages)\n",
            "WARNING: Ignoring invalid distribution -illow (c:\\users\\aaru siva\\appdata\\local\\programs\\python\\python38\\lib\\site-packages)\n",
            "\n",
            "[notice] A new release of pip is available: 23.0.1 -> 23.1.2\n",
            "[notice] To update, run: python.exe -m pip install --upgrade pip\n"
          ]
        },
        {
          "name": "stdout",
          "output_type": "stream",
          "text": [
            "Requirement already satisfied: lmdb in c:\\users\\aaru siva\\appdata\\local\\programs\\python\\python38\\lib\\site-packages (1.4.1)\n"
          ]
        },
        {
          "name": "stderr",
          "output_type": "stream",
          "text": [
            "WARNING: Ignoring invalid distribution -illow (c:\\users\\aaru siva\\appdata\\local\\programs\\python\\python38\\lib\\site-packages)\n",
            "WARNING: Ignoring invalid distribution -illow (c:\\users\\aaru siva\\appdata\\local\\programs\\python\\python38\\lib\\site-packages)\n",
            "WARNING: Ignoring invalid distribution -illow (c:\\users\\aaru siva\\appdata\\local\\programs\\python\\python38\\lib\\site-packages)\n",
            "WARNING: Ignoring invalid distribution -illow (c:\\users\\aaru siva\\appdata\\local\\programs\\python\\python38\\lib\\site-packages)\n",
            "WARNING: Ignoring invalid distribution -illow (c:\\users\\aaru siva\\appdata\\local\\programs\\python\\python38\\lib\\site-packages)\n",
            "WARNING: Ignoring invalid distribution -illow (c:\\users\\aaru siva\\appdata\\local\\programs\\python\\python38\\lib\\site-packages)\n",
            "\n",
            "[notice] A new release of pip is available: 23.0.1 -> 23.1.2\n",
            "[notice] To update, run: python.exe -m pip install --upgrade pip\n"
          ]
        }
      ],
      "source": [
        "!pip install streamlit\n",
        "!pip install pyngrok\n",
        "!pip install lmdb"
      ]
    },
    {
      "cell_type": "code",
      "execution_count": 3,
      "metadata": {
        "colab": {
          "base_uri": "https://localhost:8080/"
        },
        "id": "3uj3Q07PveSB",
        "outputId": "48772090-fde4-4194-de7b-f68a79ff0f5b"
      },
      "outputs": [
        {
          "name": "stdout",
          "output_type": "stream",
          "text": [
            "Overwriting app.py\n"
          ]
        }
      ],
      "source": [
        "%%writefile app.py\n",
        "import streamlit as st\n",
        "import os\n",
        "import shutil\n",
        "\n",
        "from basicsr.models import create_model\n",
        "from basicsr.utils import img2tensor as _img2tensor, tensor2img, imwrite\n",
        "from basicsr.utils.options import parse\n",
        "import numpy as np\n",
        "import cv2\n",
        "\n",
        "def imread(img_path):\n",
        "    img = cv2.imread(img_path)\n",
        "    img = cv2.cvtColor(img, cv2.COLOR_BGR2RGB)\n",
        "    return img\n",
        "\n",
        "def img2tensor(img, bgr2rgb=False, float32=True):\n",
        "    img = img.astype(np.float32) / 255.\n",
        "    return _img2tensor(img, bgr2rgb=bgr2rgb, float32=float32)\n",
        "\n",
        "def single_image_inference(model, img, save_path):\n",
        "    model.feed_data(data={'lq': img.unsqueeze(dim=0)})\n",
        "\n",
        "    if model.opt['val'].get('grids', False):\n",
        "        model.grids()\n",
        "\n",
        "    model.test()\n",
        "\n",
        "    if model.opt['val'].get('grids', False):\n",
        "        model.grids_inverse()\n",
        "\n",
        "    visuals = model.get_current_visuals()\n",
        "    sr_img = tensor2img([visuals['result']])\n",
        "    imwrite(sr_img, save_path)\n",
        "\n",
        "def main():\n",
        "    # Create a folder to store uploaded files\n",
        "    upload_folder = 'upload/input'\n",
        "    result_folder = 'upload/output'\n",
        "\n",
        "    if os.path.isdir(upload_folder):\n",
        "        shutil.rmtree(upload_folder)\n",
        "    if os.path.isdir(result_folder):\n",
        "        shutil.rmtree(result_folder)\n",
        "    os.makedirs(upload_folder)\n",
        "    os.makedirs(result_folder)\n",
        "\n",
        "    # Load the NAFNet model\n",
        "    opt_path = 'options/test/GoPro/NAFNet-width64.yml' \n",
        "    opt = parse(opt_path, is_train=False)\n",
        "    opt['dist'] = False\n",
        "    NAFNet = create_model(opt)\n",
        "\n",
        "    # Create the Streamlit app\n",
        "    st.title('Image Deblurring App')\n",
        "\n",
        "    # Add a file uploader to the app\n",
        "    uploaded_files = st.file_uploader('Upload an image', accept_multiple_files=True)\n",
        "\n",
        "    if uploaded_files is not None:\n",
        "      for file in uploaded_files:\n",
        "          if not file.name.endswith(('.jpg', '.jpeg', '.png')):\n",
        "              st.error('oops! Please upload image type.')\n",
        "          else:\n",
        "\n",
        "\n",
        "    \n",
        "        # Process the uploaded images\n",
        "        if uploaded_files:\n",
        "            for uploaded_file in uploaded_files:\n",
        "                # Save the uploaded image to the input folder\n",
        "                with open(os.path.join(upload_folder, uploaded_file.name), 'wb') as f:\n",
        "                    f.write(uploaded_file.getbuffer())\n",
        "                \n",
        "                # Load the input image and process it with the NAFNet model\n",
        "                input_path = os.path.join(upload_folder, uploaded_file.name)\n",
        "                img_input = imread(input_path)\n",
        "                inp = img2tensor(img_input)\n",
        "                output_path = os.path.join(result_folder, uploaded_file.name)\n",
        "                single_image_inference(NAFNet, inp, output_path)\n",
        "\n",
        "            # Display the input and output images\n",
        "            input_list = sorted(os.listdir(upload_folder))\n",
        "            output_list = sorted(os.listdir(result_folder))\n",
        "            for input_path, output_path in zip(input_list, output_list):\n",
        "                st.image([os.path.join(upload_folder, input_path), os.path.join(result_folder, output_path)],\n",
        "                        caption=['Input Image', 'Output Image'],\n",
        "                        width=250)\n",
        "\n",
        "if __name__ == '__main__':\n",
        "    main()"
      ]
    },
    {
      "cell_type": "code",
      "execution_count": 17,
      "metadata": {
        "colab": {
          "base_uri": "https://localhost:8080/"
        },
        "id": "tmB-vawjvlkh",
        "outputId": "300ef776-02f3-469f-9126-a4c15a3ce1d1"
      },
      "outputs": [
        {
          "name": "stdout",
          "output_type": "stream",
          "text": [
            "\u001b[K\u001b[?25h\u001b[37;40mnpm\u001b[0m \u001b[0m\u001b[30;43mWARN\u001b[0m \u001b[0m\u001b[35msaveError\u001b[0m ENOENT: no such file or directory, open '/content/UDeblur/package.json'\n",
            "\u001b[0m\u001b[37;40mnpm\u001b[0m \u001b[0m\u001b[30;43mWARN\u001b[0m \u001b[0m\u001b[35menoent\u001b[0m ENOENT: no such file or directory, open '/content/UDeblur/package.json'\n",
            "\u001b[0m\u001b[37;40mnpm\u001b[0m \u001b[0m\u001b[30;43mWARN\u001b[0m\u001b[35m\u001b[0m UDeblur No description\n",
            "\u001b[0m\u001b[37;40mnpm\u001b[0m \u001b[0m\u001b[30;43mWARN\u001b[0m\u001b[35m\u001b[0m UDeblur No repository field.\n",
            "\u001b[0m\u001b[37;40mnpm\u001b[0m \u001b[0m\u001b[30;43mWARN\u001b[0m\u001b[35m\u001b[0m UDeblur No README data\n",
            "\u001b[0m\u001b[37;40mnpm\u001b[0m \u001b[0m\u001b[30;43mWARN\u001b[0m\u001b[35m\u001b[0m UDeblur No license field.\n",
            "\u001b[0m\n",
            "\u001b[K\u001b[?25h+ localtunnel@2.0.2\n",
            "updated 1 package and audited 36 packages in 0.474s\n",
            "\n",
            "3 packages are looking for funding\n",
            "  run `npm fund` for details\n",
            "\n",
            "found \u001b[92m0\u001b[0m vulnerabilities\n",
            "\n"
          ]
        }
      ],
      "source": [
        "!npm install localtunnel"
      ]
    },
    {
      "cell_type": "code",
      "execution_count": 24,
      "metadata": {
        "id": "xy3OYxOJvohr"
      },
      "outputs": [],
      "source": [
        "!streamlit run app.py &>/content/logs.txt &"
      ]
    },
    {
      "cell_type": "code",
      "execution_count": 21,
      "metadata": {
        "colab": {
          "base_uri": "https://localhost:8080/"
        },
        "id": "KhW8Mxe7vred",
        "outputId": "2bb86a4a-84fd-4510-8dac-0dea210bde0a"
      },
      "outputs": [
        {
          "name": "stdout",
          "output_type": "stream",
          "text": [
            "\u001b[K\u001b[?25hnpx: installed 22 in 2.369s\n",
            "your url is: https://silver-paws-turn.loca.lt\n",
            "^C\n"
          ]
        }
      ],
      "source": [
        "!npx localtunnel --port 8501"
      ]
    }
  ],
  "metadata": {
    "accelerator": "GPU",
    "colab": {
      "provenance": []
    },
    "gpuClass": "standard",
    "kernelspec": {
      "display_name": "Python 3",
      "name": "python3"
    },
    "language_info": {
      "codemirror_mode": {
        "name": "ipython",
        "version": 3
      },
      "file_extension": ".py",
      "mimetype": "text/x-python",
      "name": "python",
      "nbconvert_exporter": "python",
      "pygments_lexer": "ipython3",
      "version": "3.8.8"
    }
  },
  "nbformat": 4,
  "nbformat_minor": 0
}
